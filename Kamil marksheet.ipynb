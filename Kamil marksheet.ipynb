{
 "cells": [
  {
   "cell_type": "markdown",
   "metadata": {},
   "source": [
    "Assignment \"Marksheet\"\n",
    "Name : Kamil jawed\n",
    "Roll no : AIC042727\n",
    "Shift : 12:15 to 03:15"
   ]
  },
  {
   "cell_type": "code",
   "execution_count": 5,
   "metadata": {},
   "outputs": [
    {
     "name": "stdout",
     "output_type": "stream",
     "text": [
      "Enter English marks : 55\n",
      "Enter Maths marks : 99\n",
      "Enter Physics marks : 85\n",
      "79.66666666666666\n"
     ]
    }
   ],
   "source": [
    "#Assignment  \n",
    "subjects = [\"English\",\"Maths\",\"Physics\"]\n",
    "sub1 = float(input(\"Enter English marks : \"))\n",
    "sub2 = float(input(\"Enter Maths marks : \"))\n",
    "sub3 = float(input(\"Enter Physics marks : \"))\n",
    "\n",
    "sum = sub1 + sub2 + sub3\n",
    "total = 300\n",
    "percentage = (sum/total)*100\n",
    "print(percentage)\n",
    "\n",
    "import csv\n",
    "with open(\"Kamil marksheet.csv\",\"w\", newline = \"\") as f:\n",
    "    data_handler = csv.writer(f, delimiter=\",\")\n",
    "    data_handler.writerow([\"English\",sub1,100])\n",
    "    data_handler.writerow([\"Maths\",sub2,100])\n",
    "    data_handler.writerow([\"Physics\",sub3,100])\n",
    "\n",
    "    data_handler.writerow([\"\",\"Percentage\",percentage])\n"
   ]
  },
  {
   "cell_type": "code",
   "execution_count": null,
   "metadata": {},
   "outputs": [],
   "source": []
  },
  {
   "cell_type": "code",
   "execution_count": null,
   "metadata": {},
   "outputs": [],
   "source": []
  }
 ],
 "metadata": {
  "kernelspec": {
   "display_name": "py36-test",
   "language": "python",
   "name": "py36-test"
  },
  "language_info": {
   "codemirror_mode": {
    "name": "ipython",
    "version": 3
   },
   "file_extension": ".py",
   "mimetype": "text/x-python",
   "name": "python",
   "nbconvert_exporter": "python",
   "pygments_lexer": "ipython3",
   "version": "3.6.8"
  }
 },
 "nbformat": 4,
 "nbformat_minor": 2
}
